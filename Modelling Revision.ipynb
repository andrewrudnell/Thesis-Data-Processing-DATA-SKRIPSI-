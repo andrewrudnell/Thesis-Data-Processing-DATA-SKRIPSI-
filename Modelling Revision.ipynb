{
 "cells": [
  {
   "cell_type": "code",
   "execution_count": 4,
   "metadata": {},
   "outputs": [],
   "source": [
    "import pandas as pd\n",
    "import os\n",
    "import numpy as np\n",
    "import matplotlib.pyplot as plt\n",
    "import seaborn as sns\n",
    "from scipy.stats import skew"
   ]
  },
  {
   "cell_type": "code",
   "execution_count": 5,
   "metadata": {},
   "outputs": [],
   "source": [
    "os.chdir(\"/Users/andrewyoel/Documents\")"
   ]
  },
  {
   "cell_type": "code",
   "execution_count": 7,
   "metadata": {},
   "outputs": [],
   "source": [
    "df= pd.read_excel(\"data kedelai skripsi copy.xlsx\")"
   ]
  },
  {
   "cell_type": "code",
   "execution_count": 8,
   "metadata": {},
   "outputs": [
    {
     "data": {
      "text/html": [
       "<div>\n",
       "<style scoped>\n",
       "    .dataframe tbody tr th:only-of-type {\n",
       "        vertical-align: middle;\n",
       "    }\n",
       "\n",
       "    .dataframe tbody tr th {\n",
       "        vertical-align: top;\n",
       "    }\n",
       "\n",
       "    .dataframe thead th {\n",
       "        text-align: right;\n",
       "    }\n",
       "</style>\n",
       "<table border=\"1\" class=\"dataframe\">\n",
       "  <thead>\n",
       "    <tr style=\"text-align: right;\">\n",
       "      <th></th>\n",
       "      <th>diamater</th>\n",
       "      <th>jumlah buku</th>\n",
       "      <th>bobot 100 biji</th>\n",
       "      <th>jumlah biji</th>\n",
       "      <th>jumlah polong</th>\n",
       "      <th>PB</th>\n",
       "      <th>LB</th>\n",
       "      <th>TB</th>\n",
       "      <th>jumlah cabang</th>\n",
       "      <th>tinggi tanaman</th>\n",
       "    </tr>\n",
       "  </thead>\n",
       "  <tbody>\n",
       "    <tr>\n",
       "      <th>0</th>\n",
       "      <td>4.55</td>\n",
       "      <td>11</td>\n",
       "      <td>25.4</td>\n",
       "      <td>64</td>\n",
       "      <td>24</td>\n",
       "      <td>11.488</td>\n",
       "      <td>7.382</td>\n",
       "      <td>4.926</td>\n",
       "      <td>9</td>\n",
       "      <td>62.000000</td>\n",
       "    </tr>\n",
       "    <tr>\n",
       "      <th>1</th>\n",
       "      <td>4.23</td>\n",
       "      <td>10</td>\n",
       "      <td>21.6</td>\n",
       "      <td>28</td>\n",
       "      <td>11</td>\n",
       "      <td>11.196</td>\n",
       "      <td>7.544</td>\n",
       "      <td>4.872</td>\n",
       "      <td>8</td>\n",
       "      <td>61.000000</td>\n",
       "    </tr>\n",
       "    <tr>\n",
       "      <th>2</th>\n",
       "      <td>5.73</td>\n",
       "      <td>11</td>\n",
       "      <td>27.7</td>\n",
       "      <td>99</td>\n",
       "      <td>41</td>\n",
       "      <td>12.216</td>\n",
       "      <td>7.238</td>\n",
       "      <td>5.054</td>\n",
       "      <td>7</td>\n",
       "      <td>52.766667</td>\n",
       "    </tr>\n",
       "    <tr>\n",
       "      <th>3</th>\n",
       "      <td>4.94</td>\n",
       "      <td>9</td>\n",
       "      <td>28.6</td>\n",
       "      <td>75</td>\n",
       "      <td>30</td>\n",
       "      <td>12.358</td>\n",
       "      <td>7.370</td>\n",
       "      <td>5.196</td>\n",
       "      <td>6</td>\n",
       "      <td>69.700000</td>\n",
       "    </tr>\n",
       "    <tr>\n",
       "      <th>4</th>\n",
       "      <td>4.50</td>\n",
       "      <td>9</td>\n",
       "      <td>26.9</td>\n",
       "      <td>35</td>\n",
       "      <td>15</td>\n",
       "      <td>11.972</td>\n",
       "      <td>7.410</td>\n",
       "      <td>5.140</td>\n",
       "      <td>7</td>\n",
       "      <td>52.250000</td>\n",
       "    </tr>\n",
       "  </tbody>\n",
       "</table>\n",
       "</div>"
      ],
      "text/plain": [
       "   diamater  jumlah buku  bobot 100 biji  jumlah biji  jumlah polong      PB  \\\n",
       "0      4.55           11            25.4           64             24  11.488   \n",
       "1      4.23           10            21.6           28             11  11.196   \n",
       "2      5.73           11            27.7           99             41  12.216   \n",
       "3      4.94            9            28.6           75             30  12.358   \n",
       "4      4.50            9            26.9           35             15  11.972   \n",
       "\n",
       "      LB     TB  jumlah cabang  tinggi tanaman  \n",
       "0  7.382  4.926              9       62.000000  \n",
       "1  7.544  4.872              8       61.000000  \n",
       "2  7.238  5.054              7       52.766667  \n",
       "3  7.370  5.196              6       69.700000  \n",
       "4  7.410  5.140              7       52.250000  "
      ]
     },
     "execution_count": 8,
     "metadata": {},
     "output_type": "execute_result"
    }
   ],
   "source": [
    "df.head()"
   ]
  },
  {
   "cell_type": "markdown",
   "metadata": {},
   "source": [
    "# EDA"
   ]
  },
  {
   "cell_type": "code",
   "execution_count": 9,
   "metadata": {},
   "outputs": [
    {
     "data": {
      "text/plain": [
       "(46, 10)"
      ]
     },
     "execution_count": 9,
     "metadata": {},
     "output_type": "execute_result"
    }
   ],
   "source": [
    "df.shape"
   ]
  },
  {
   "cell_type": "code",
   "execution_count": 10,
   "metadata": {},
   "outputs": [
    {
     "name": "stderr",
     "output_type": "stream",
     "text": [
      "/Users/andrewyoel/anaconda3/lib/python3.7/site-packages/seaborn/distributions.py:2619: FutureWarning: `distplot` is a deprecated function and will be removed in a future version. Please adapt your code to use either `displot` (a figure-level function with similar flexibility) or `histplot` (an axes-level function for histograms).\n",
      "  warnings.warn(msg, FutureWarning)\n"
     ]
    },
    {
     "data": {
      "text/plain": [
       "<AxesSubplot:xlabel='bobot 100 biji', ylabel='Density'>"
      ]
     },
     "execution_count": 10,
     "metadata": {},
     "output_type": "execute_result"
    },
    {
     "data": {
      "image/png": "[encoded data removed]",
      "text/plain": [
       "<Figure size 432x288 with 1 Axes>"
      ]
     },
     "metadata": {
      "needs_background": "light"
     },
     "output_type": "display_data"
    }
   ],
   "source": [
    "sns.distplot(df['bobot 100 biji'])"
   ]
  },
  {
   "cell_type": "code",
   "execution_count": 11,
   "metadata": {},
   "outputs": [
    {
     "name": "stdout",
     "output_type": "stream",
     "text": [
      "<class 'pandas.core.frame.DataFrame'>\n",
      "RangeIndex: 46 entries, 0 to 45\n",
      "Data columns (total 10 columns):\n",
      " #   Column          Non-Null Count  Dtype  \n",
      "---  ------          --------------  -----  \n",
      " 0   diamater        46 non-null     float64\n",
      " 1   jumlah buku     46 non-null     int64  \n",
      " 2   bobot 100 biji  46 non-null     float64\n",
      " 3   jumlah biji     46 non-null     int64  \n",
      " 4   jumlah polong   46 non-null     int64  \n",
      " 5   PB              46 non-null     float64\n",
      " 6   LB              46 non-null     float64\n",
      " 7   TB              46 non-null     float64\n",
      " 8   jumlah cabang   46 non-null     int64  \n",
      " 9   tinggi tanaman  46 non-null     float64\n",
      "dtypes: float64(6), int64(4)\n",
      "memory usage: 3.7 KB\n"
     ]
    }
   ],
   "source": [
    "df.info()"
   ]
  },
  {
   "cell_type": "code",
   "execution_count": 12,
   "metadata": {},
   "outputs": [],
   "source": [
    "numeric_feats = df.dtypes[df.dtypes != 'object'].index"
   ]
  },
  {
   "cell_type": "code",
   "execution_count": 13,
   "metadata": {},
   "outputs": [
    {
     "data": {
      "text/plain": [
       "<AxesSubplot:>"
      ]
     },
     "execution_count": 13,
     "metadata": {},
     "output_type": "execute_result"
    },
    {
     "data": {
      "image/png": "[encoded data removed]",
      "text/plain": [
       "<Figure size 864x648 with 2 Axes>"
      ]
     },
     "metadata": {
      "needs_background": "light"
     },
     "output_type": "display_data"
    }
   ],
   "source": [
    "cormat=df[numeric_feats].corr()\n",
    "plt.subplots(figsize=(12,9))\n",
    "sns.heatmap(cormat,vmax= 0.9, square= True)"
   ]
  },
  {
   "cell_type": "code",
   "execution_count": 14,
   "metadata": {},
   "outputs": [],
   "source": [
    "bobot_100_biji= pd.DataFrame({'bobot 100 biji' : df['bobot 100 biji'],'log bobot 100 biji': np.log1p(df['bobot 100 biji'])})"
   ]
  },
  {
   "cell_type": "code",
   "execution_count": 15,
   "metadata": {},
   "outputs": [
    {
     "data": {
      "text/plain": [
       "array([[<AxesSubplot:title={'center':'bobot 100 biji'}>,\n",
       "        <AxesSubplot:title={'center':'log bobot 100 biji'}>]],\n",
       "      dtype=object)"
      ]
     },
     "execution_count": 15,
     "metadata": {},
     "output_type": "execute_result"
    },
    {
     "data": {
      "image/png": "[encoded data removed]",
      "text/plain": [
       "<Figure size 432x288 with 2 Axes>"
      ]
     },
     "metadata": {
      "needs_background": "light"
     },
     "output_type": "display_data"
    }
   ],
   "source": [
    "bobot_100_biji.hist()"
   ]
  },
  {
   "cell_type": "markdown",
   "metadata": {},
   "source": [
    "# MODELLING"
   ]
  },
  {
   "cell_type": "code",
   "execution_count": 16,
   "metadata": {},
   "outputs": [],
   "source": [
    "df['bobot 100 biji']= np.log1p(df['bobot 100 biji'])"
   ]
  },
  {
   "cell_type": "code",
   "execution_count": 17,
   "metadata": {},
   "outputs": [],
   "source": [
    "#split feature and target values\n",
    "X= df.iloc[:, 5:8]\n",
    "y= df['bobot 100 biji']"
   ]
  },
  {
   "cell_type": "code",
   "execution_count": 18,
   "metadata": {},
   "outputs": [],
   "source": [
    "from sklearn.linear_model import RidgeCV,LassoCV,LinearRegression\n",
    "from sklearn.model_selection import cross_val_score"
   ]
  },
  {
   "cell_type": "code",
   "execution_count": 19,
   "metadata": {},
   "outputs": [],
   "source": [
    "def rmse_cv(model): \n",
    "    return np.sqrt(-cross_val_score(model,X,y, scoring= \"neg_mean_squared_error\", cv =5))"
   ]
  },
  {
   "cell_type": "code",
   "execution_count": 20,
   "metadata": {},
   "outputs": [
    {
     "data": {
      "text/plain": [
       "0.12572715389976935"
      ]
     },
     "execution_count": 20,
     "metadata": {},
     "output_type": "execute_result"
    }
   ],
   "source": [
    "# Model 1 = Linear Regression\n",
    "model_lr = LinearRegression()\n",
    "model_lr.fit(X, y)\n",
    "rmse_cv(model_lr).mean()"
   ]
  },
  {
   "cell_type": "code",
   "execution_count": 21,
   "metadata": {},
   "outputs": [
    {
     "data": {
      "text/plain": [
       "0.12359873100267546"
      ]
     },
     "execution_count": 21,
     "metadata": {},
     "output_type": "execute_result"
    }
   ],
   "source": [
    "# Model 2 = Ridge Regression\n",
    "model_Rs = RidgeCV(alphas =[1, 0.1, 0.05, 0.01])\n",
    "rmse_cv(model_Rs).mean()"
   ]
  },
  {
   "cell_type": "code",
   "execution_count": 22,
   "metadata": {},
   "outputs": [
    {
     "data": {
      "text/plain": [
       "0.1133150930882291"
      ]
     },
     "execution_count": 22,
     "metadata": {},
     "output_type": "execute_result"
    }
   ],
   "source": [
    "# Model 3 = Lasso Regression\n",
    "model_Ls = LassoCV(alphas =[1, 0.1, 0.05, 0.01])\n",
    "rmse_cv(model_Ls).mean()"
   ]
  },
  {
   "cell_type": "markdown",
   "metadata": {},
   "source": [
    "# Check Feature Importance"
   ]
  },
  {
   "cell_type": "code",
   "execution_count": 23,
   "metadata": {},
   "outputs": [],
   "source": [
    "coef = pd.Series(model_Ls.fit(X,y).coef_, index= X.columns)"
   ]
  },
  {
   "cell_type": "code",
   "execution_count": 24,
   "metadata": {},
   "outputs": [],
   "source": [
    "imp_coef= pd.concat([coef.sort_values().head(10), coef.sort_values().tail(10)])"
   ]
  },
  {
   "cell_type": "code",
   "execution_count": 25,
   "metadata": {},
   "outputs": [
    {
     "data": {
      "text/plain": [
       "<AxesSubplot:>"
      ]
     },
     "execution_count": 25,
     "metadata": {},
     "output_type": "execute_result"
    },
    {
     "data": {
      "image/png": "[encoded data removed]",
      "text/plain": [
       "<Figure size 432x288 with 1 Axes>"
      ]
     },
     "metadata": {
      "needs_background": "light"
     },
     "output_type": "display_data"
    }
   ],
   "source": [
    "imp_coef.plot(kind='barh')"
   ]
  },
  {
   "cell_type": "code",
   "execution_count": null,
   "metadata": {},
   "outputs": [],
   "source": []
  }
 ],
 "metadata": {
  "kernelspec": {
   "display_name": "Python 3 (ipykernel)",
   "language": "python",
   "name": "python3"
  },
  "language_info": {
   "codemirror_mode": {
    "name": "ipython",
    "version": 3
   },
   "file_extension": ".py",
   "mimetype": "text/x-python",
   "name": "python",
   "nbconvert_exporter": "python",
   "pygments_lexer": "ipython3",
   "version": "3.7.3"
  }
 },
 "nbformat": 4,
 "nbformat_minor": 2
}
